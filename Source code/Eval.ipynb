{
  "nbformat": 4,
  "nbformat_minor": 0,
  "metadata": {
    "colab": {
      "provenance": []
    },
    "kernelspec": {
      "name": "python3",
      "display_name": "Python 3"
    },
    "language_info": {
      "name": "python"
    }
  },
  "cells": [
    {
      "cell_type": "markdown",
      "source": [
        "# Necessary libs"
      ],
      "metadata": {
        "id": "BEYqE4KOBFLJ"
      }
    },
    {
      "cell_type": "markdown",
      "source": [
        "**Access all result images [here](https://drive.google.com/drive/folders/1I1GKBVq00j_FJmm-UKwc-3-qeNApgZBK?usp=sharing)**!!!!!"
      ],
      "metadata": {
        "id": "hICL4qX3BU9E"
      }
    },
    {
      "cell_type": "code",
      "execution_count": 1,
      "metadata": {
        "id": "5VYnWemZU_nr",
        "colab": {
          "base_uri": "https://localhost:8080/"
        },
        "outputId": "5e78834a-0d18-43c2-9dfa-0fb9a3722699"
      },
      "outputs": [
        {
          "output_type": "stream",
          "name": "stdout",
          "text": [
            "Mounted at /content/drive\n",
            "/content/drive/MyDrive\n"
          ]
        }
      ],
      "source": [
        "import cv2\n",
        "import os\n",
        "import sys\n",
        "import numpy as np\n",
        "import torchvision\n",
        "import matplotlib.pyplot as plt\n",
        "from google.colab.patches import cv2_imshow\n",
        "from google.colab import drive\n",
        "drive.mount('/content/drive')\n",
        "%cd /content/drive/MyDrive"
      ]
    },
    {
      "cell_type": "code",
      "execution_count": 2,
      "metadata": {
        "id": "EqfS0JnEpSu0"
      },
      "outputs": [],
      "source": [
        "# Pre-installed libraries and frameworks\n",
        "import sys\n",
        "sys.path.append(\"/content/drive/MyDrive/virtual_env/lib/python3.10/site-packages\")"
      ]
    },
    {
      "cell_type": "markdown",
      "metadata": {
        "id": "U3fFliE-fYlh"
      },
      "source": [
        "# Evaluate PSNR and SSIM of each models"
      ]
    },
    {
      "cell_type": "code",
      "execution_count": 3,
      "metadata": {
        "id": "Hbc-h-bJgOvX"
      },
      "outputs": [],
      "source": [
        "# Evaluation metric: PSNR & SSIM\n",
        "import skimage\n",
        "from skimage.metrics import peak_signal_noise_ratio as psnr\n",
        "from skimage.metrics import structural_similarity as ssim\n",
        "\n",
        "def psnr_eval(gt, out):\n",
        "  return psnr(gt, out)\n",
        "\n",
        "def ssim_eval(gt, out):\n",
        "  return ssim(gt, out, channel_axis=2)"
      ]
    },
    {
      "cell_type": "code",
      "execution_count": 4,
      "metadata": {
        "id": "DOJfulUvf495"
      },
      "outputs": [],
      "source": [
        "import os, sys\n",
        "import cv2\n",
        "import numpy as np\n",
        "\n",
        "# Evaluation function\n",
        "def eval(gt_path, sr_path, dataset_name):\n",
        "  # Define psnr and ssim\n",
        "  psnr = 0\n",
        "  ssim = 0\n",
        "  # Load list of image names\n",
        "  gt_imgs = os.listdir(gt_path)\n",
        "  sr_imgs = os.listdir(sr_path)\n",
        "  # Sort image names\n",
        "  gt_imgs = sorted(gt_imgs)\n",
        "  sr_imgs = sorted(sr_imgs)\n",
        "  # Compute total psnr\n",
        "  for i in range(len(gt_imgs)):\n",
        "    # Read img\n",
        "    gt_img_path = os.path.join(gt_path, gt_imgs[i])\n",
        "    sr_img_path = os.path.join(sr_path, sr_imgs[i])\n",
        "    gt = cv2.imread(gt_img_path)\n",
        "    sr = cv2.imread(sr_img_path)\n",
        "    # Check if gt & sr has different shape\n",
        "    if gt.shape[:2] != sr.shape[:2]:\n",
        "      # print(f'gt_shape: {gt.shape} \\t sr_shape: {sr.shape}')\n",
        "      gt = cv2.resize(gt, (sr.shape[1], sr.shape[0]), interpolation=cv2.INTER_CUBIC)\n",
        "    # Compute psnr & ssim\n",
        "    psnr += psnr_eval(gt, sr)\n",
        "    ssim += ssim_eval(gt, sr)\n",
        "  # Compute mean psnr & ssim\n",
        "  mean_psnr = psnr / len(gt_imgs)\n",
        "  mean_ssim = ssim / len(gt_imgs)\n",
        "  print(f'Dataset: {dataset_name}')\n",
        "  print(f'PSNR: {np.round(mean_psnr, 5)} \\t SSIM: {np.round(mean_ssim, 5)}')"
      ]
    },
    {
      "cell_type": "code",
      "source": [
        "# Evaluation for Nearest\n",
        "# Set5 evaluation\n",
        "print('Model: Nearest')\n",
        "eval('/content/drive/MyDrive/dataset/test/Set5/GTmod12', '/content/drive/MyDrive/dataset/test_results/Image processing/Nearest/Set5', 'Set5')\n",
        "\n",
        "# Set14 evaluation\n",
        "eval('/content/drive/MyDrive/dataset/test/Set14/GTmod12', '/content/drive/MyDrive/dataset/test_results/Image processing/Nearest/Set14', 'Set14')\n",
        "\n",
        "# BSDS100 evaluation\n",
        "eval('/content/drive/MyDrive/dataset/test/BSDS100', '/content/drive/MyDrive/dataset/test_results/Image processing/Nearest/BSDS100', 'BSDS100')"
      ],
      "metadata": {
        "colab": {
          "base_uri": "https://localhost:8080/"
        },
        "id": "xDIfeIo2FNBz",
        "outputId": "11bf082c-60fd-4177-89ed-88a06446ba82"
      },
      "execution_count": null,
      "outputs": [
        {
          "output_type": "stream",
          "name": "stdout",
          "text": [
            "Model: Nearest\n",
            "Dataset: Set5\n",
            "PSNR: 24.56016 \t SSIM: 0.73101\n",
            "Dataset: Set14\n",
            "PSNR: 22.96422 \t SSIM: 0.64579\n",
            "Dataset: BSDS100\n",
            "PSNR: 21.9653 \t SSIM: 0.60994\n"
          ]
        }
      ]
    },
    {
      "cell_type": "code",
      "execution_count": null,
      "metadata": {
        "colab": {
          "base_uri": "https://localhost:8080/"
        },
        "id": "ycAh2bgxVP-b",
        "outputId": "bfae4b7c-d3e7-4171-deb8-394a745d5a1b"
      },
      "outputs": [
        {
          "output_type": "stream",
          "name": "stdout",
          "text": [
            "Model: Bicubic\n",
            "Dataset: Set5\n",
            "PSNR: 26.85495 \t SSIM: 0.79388\n",
            "Dataset: Set14\n",
            "PSNR: 24.35344 \t SSIM: 0.69022\n",
            "Dataset: BSDS100\n",
            "PSNR: 23.11211 \t SSIM: 0.64614\n"
          ]
        }
      ],
      "source": [
        "# Evaluation for Bicubic\n",
        "# Set5 evaluation\n",
        "print('Model: Bicubic')\n",
        "eval('/content/drive/MyDrive/dataset/test/Set5/GTmod12', '/content/drive/MyDrive/dataset/test_results/Image processing/Bicubic/Set5', 'Set5')\n",
        "\n",
        "# Set14 evaluation\n",
        "eval('/content/drive/MyDrive/dataset/test/Set14/GTmod12', '/content/drive/MyDrive/dataset/test_results/Image processing/Bicubic/Set14', 'Set14')\n",
        "\n",
        "# BSDS100 evaluation\n",
        "eval('/content/drive/MyDrive/dataset/test/BSDS100', '/content/drive/MyDrive/dataset/test_results/Image processing/Bicubic/BSDS100', 'BSDS100')"
      ]
    },
    {
      "cell_type": "code",
      "execution_count": null,
      "metadata": {
        "colab": {
          "base_uri": "https://localhost:8080/"
        },
        "id": "cswIxRcqFgoY",
        "outputId": "5cd88efc-a7ea-4467-915a-2dd0a98633f9"
      },
      "outputs": [
        {
          "output_type": "stream",
          "name": "stdout",
          "text": [
            "Model: Bilinear\n",
            "Dataset: Set5\n",
            "PSNR: 25.82042 \t SSIM: 0.7637\n",
            "Dataset: Set14\n",
            "PSNR: 23.69828 \t SSIM: 0.65802\n",
            "Dataset: BSDS100\n",
            "PSNR: 23.54822 \t SSIM: 0.64687\n"
          ]
        }
      ],
      "source": [
        "# Evaluation for Bilinear\n",
        "# Set5 evaluation\n",
        "print('Model: Bilinear')\n",
        "eval('/content/drive/MyDrive/dataset/test/Set5/GTmod12', '/content/drive/MyDrive/dataset/test_results/Image processing/Bilinear/Set5', 'Set5')\n",
        "\n",
        "# Set14 evaluation\n",
        "eval('/content/drive/MyDrive/dataset/test/Set14/GTmod12', '/content/drive/MyDrive/dataset/test_results/Image processing/Bilinear/Set14', 'Set14')\n",
        "\n",
        "# BSDS100 evaluation\n",
        "eval('/content/drive/MyDrive/dataset/test/BSDS100', '/content/drive/MyDrive/dataset/test_results/Image processing/Bilinear/BSDS100', 'BSDS100')"
      ]
    },
    {
      "cell_type": "code",
      "source": [
        "# Evaluation for SRCNN\n",
        "# Set5 evaluation\n",
        "print('Model: SRCNN')\n",
        "eval('/content/drive/MyDrive/dataset/test/Set5/GTmod12', '/content/drive/MyDrive/dataset/test_results/CNNs/SRCNN/Set5', 'Set5')\n",
        "\n",
        "# Set14 evaluation\n",
        "eval('/content/drive/MyDrive/dataset/test/Set14/GTmod12', '/content/drive/MyDrive/dataset/test_results/CNNs/SRCNN/Set14', 'Set14')\n",
        "\n",
        "# BSDS100 evaluation\n",
        "eval('/content/drive/MyDrive/dataset/test/BSDS100', '/content/drive/MyDrive/dataset/test_results/CNNs/SRCNN/BSDS100', 'BSDS100')"
      ],
      "metadata": {
        "colab": {
          "base_uri": "https://localhost:8080/"
        },
        "id": "bUDIqH8DJIJO",
        "outputId": "629b6621-4615-4461-db83-0a62e34eaa21"
      },
      "execution_count": 5,
      "outputs": [
        {
          "output_type": "stream",
          "name": "stdout",
          "text": [
            "Model: SRCNN\n",
            "Dataset: Set5\n",
            "PSNR: 23.8697 \t SSIM: 0.79201\n",
            "Dataset: Set14\n",
            "PSNR: 22.48096 \t SSIM: 0.69468\n",
            "Dataset: BSDS100\n",
            "PSNR: 18.93862 \t SSIM: 0.57259\n"
          ]
        }
      ]
    },
    {
      "cell_type": "code",
      "source": [
        "# Evaluation for ESPCN\n",
        "# Set5 evaluation\n",
        "print('Model: ESPCN')\n",
        "eval('/content/drive/MyDrive/dataset/test/Set5/GTmod12', '/content/drive/MyDrive/dataset/test_results/CNNs/ESPCN/Set5', 'Set5')\n",
        "\n",
        "# Set14 evaluation\n",
        "eval('/content/drive/MyDrive/dataset/test/Set14/GTmod12', '/content/drive/MyDrive/dataset/test_results/CNNs/ESPCN/Set14', 'Set14')\n",
        "\n",
        "# BSDS100 evaluation\n",
        "eval('/content/drive/MyDrive/dataset/test/BSDS100', '/content/drive/MyDrive/dataset/test_results/CNNs/ESPCN/BSDS100', 'BSDS100')"
      ],
      "metadata": {
        "colab": {
          "base_uri": "https://localhost:8080/"
        },
        "outputId": "0c03dd87-483e-4786-cdc3-69c38a1ddc43",
        "id": "PsfsPu3zJTtj"
      },
      "execution_count": 6,
      "outputs": [
        {
          "output_type": "stream",
          "name": "stdout",
          "text": [
            "Model: ESPCN\n",
            "Dataset: Set5\n",
            "PSNR: 27.07576 \t SSIM: 0.78891\n",
            "Dataset: Set14\n",
            "PSNR: 24.58924 \t SSIM: 0.70335\n",
            "Dataset: BSDS100\n",
            "PSNR: 21.30358 \t SSIM: 0.57517\n"
          ]
        }
      ]
    },
    {
      "cell_type": "code",
      "source": [
        "# Evaluation for VDSR\n",
        "# Set5 evaluation\n",
        "print('Model: VDSR')\n",
        "eval('/content/drive/MyDrive/dataset/test/Set5/GTmod12', '/content/drive/MyDrive/dataset/test_results/CNNs/VDSR/Set5', 'Set5')\n",
        "\n",
        "# Set14 evaluation\n",
        "eval('/content/drive/MyDrive/dataset/test/Set14/GTmod12', '/content/drive/MyDrive/dataset/test_results/CNNs/VDSR/Set14', 'Set14')\n",
        "\n",
        "# BSDS100 evaluation\n",
        "eval('/content/drive/MyDrive/dataset/test/BSDS100', '/content/drive/MyDrive/dataset/test_results/CNNs/VDSR/BSDS100', 'BSDS100')"
      ],
      "metadata": {
        "colab": {
          "base_uri": "https://localhost:8080/"
        },
        "id": "vi1dZUccJZgl",
        "outputId": "1e127491-680c-47f5-aaec-9e811b484fee"
      },
      "execution_count": 7,
      "outputs": [
        {
          "output_type": "stream",
          "name": "stdout",
          "text": [
            "Model: VDSR\n",
            "Dataset: Set5\n",
            "PSNR: 25.97739 \t SSIM: 0.77245\n",
            "Dataset: Set14\n",
            "PSNR: 23.85113 \t SSIM: 0.66122\n",
            "Dataset: BSDS100\n",
            "PSNR: 24.03693 \t SSIM: 0.66249\n"
          ]
        }
      ]
    },
    {
      "cell_type": "code",
      "execution_count": null,
      "metadata": {
        "colab": {
          "base_uri": "https://localhost:8080/"
        },
        "id": "dq9MjO3QOom8",
        "outputId": "d26e4d4b-900d-4849-d3ee-cc0231b3ab86"
      },
      "outputs": [
        {
          "name": "stdout",
          "output_type": "stream",
          "text": [
            "Model: dSRVAE\n",
            "Dataset: Set5\n",
            "PSNR: 24.9273 \t SSIM: 0.7291\n",
            "Dataset: Set14\n",
            "PSNR: 23.67824 \t SSIM: 0.64805\n",
            "Dataset: BSDS100\n",
            "PSNR: 21.53931 \t SSIM: 0.55412\n"
          ]
        }
      ],
      "source": [
        "# Evaluation for dSRVAE\n",
        "# Set5 evaluation\n",
        "print('Model: dSRVAE')\n",
        "eval('/content/drive/MyDrive/dataset/test/Set5/GTmod12', '/content/drive/MyDrive/dataset/test_results/dSRVAE/Set5', 'Set5')\n",
        "\n",
        "# Set14 evaluation\n",
        "eval('/content/drive/MyDrive/dataset/test/Set14/GTmod12', '/content/drive/MyDrive/dataset/test_results/dSRVAE/Set14', 'Set14')\n",
        "\n",
        "# BSDS100 evaluation\n",
        "eval('/content/drive/MyDrive/dataset/test/BSDS100', '/content/drive/MyDrive/dataset/test_results/dSRVAE/BSDS100', 'BSDS100')"
      ]
    },
    {
      "cell_type": "code",
      "execution_count": null,
      "metadata": {
        "colab": {
          "base_uri": "https://localhost:8080/"
        },
        "id": "HPOfUG_-fd1-",
        "outputId": "ecc1ebc7-04b1-47cb-8c6e-a6baf793fc20"
      },
      "outputs": [
        {
          "name": "stdout",
          "output_type": "stream",
          "text": [
            "Model: SRGAN\n",
            "Dataset: Set5\n",
            "PSNR: 21.34851 \t SSIM: 0.61431\n",
            "Dataset: Set14\n",
            "PSNR: 18.49617 \t SSIM: 0.43604\n",
            "Dataset: BSDS100\n",
            "PSNR: 23.19781 \t SSIM: 0.60862\n"
          ]
        }
      ],
      "source": [
        "# Evaluation for SRGAN\n",
        "# Set5 evaluation\n",
        "print('Model: SRGAN')\n",
        "eval('/content/drive/MyDrive/dataset/test/Set5/GTmod12', '/content/drive/MyDrive/dataset/test_results/SRGAN/Set5', 'Set5')\n",
        "\n",
        "# Set14 evaluation\n",
        "eval('/content/drive/MyDrive/dataset/test/Set14/GTmod12', '/content/drive/MyDrive/dataset/test_results/SRGAN/Set14', 'Set14')\n",
        "\n",
        "# BSDS100 evaluation\n",
        "eval('/content/drive/MyDrive/dataset/test/BSDS100', '/content/drive/MyDrive/dataset/test_results/SRGAN/BSDS100', 'BSDS100')"
      ]
    },
    {
      "cell_type": "code",
      "execution_count": null,
      "metadata": {
        "colab": {
          "base_uri": "https://localhost:8080/"
        },
        "id": "Opv0hckoJIGo",
        "outputId": "5d38005c-6e96-4012-a6a2-95c7b1fd97b6"
      },
      "outputs": [
        {
          "name": "stdout",
          "output_type": "stream",
          "text": [
            "Model: Real-ESRGAN\n",
            "Dataset: Set5\n",
            "PSNR: 24.29907 \t SSIM: 0.73169\n",
            "Dataset: Set14\n",
            "PSNR: 23.27066 \t SSIM: 0.6498\n",
            "Dataset: BSDS100\n",
            "PSNR: 21.96071 \t SSIM: 0.5892\n"
          ]
        }
      ],
      "source": [
        "# Evaluation for Real-ESRGAN\n",
        "print('Model: Real-ESRGAN')\n",
        "# Set5 evaluation\n",
        "eval('/content/drive/MyDrive/dataset/test/Set5/GTmod12', '/content/drive/MyDrive/dataset/test_results/Real-ESRGAN/Set5', 'Set5')\n",
        "\n",
        "# Set14 evaluation\n",
        "eval('/content/drive/MyDrive/dataset/test/Set14/GTmod12', '/content/drive/MyDrive/dataset/test_results/Real-ESRGAN/Set14', 'Set14')\n",
        "\n",
        "# BSDS100 evaluation\n",
        "eval('/content/drive/MyDrive/dataset/test/BSDS100', '/content/drive/MyDrive/dataset/test_results/Real-ESRGAN/BSDS100', 'BSDS100')"
      ]
    }
  ]
}